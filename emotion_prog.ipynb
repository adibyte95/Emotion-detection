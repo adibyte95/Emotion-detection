{
  "nbformat": 4,
  "nbformat_minor": 0,
  "metadata": {
    "colab": {
      "name": "Untitled0.ipynb",
      "version": "0.3.2",
      "views": {},
      "default_view": {},
      "provenance": [],
      "collapsed_sections": []
    },
    "kernelspec": {
      "name": "python3",
      "display_name": "Python 3"
    },
    "accelerator": "GPU"
  },
  "cells": [
    {
      "metadata": {
        "id": "VC5MPQDGfnzc",
        "colab_type": "code",
        "colab": {
          "autoexec": {
            "startup": false,
            "wait_interval": 0
          }
        }
      },
      "cell_type": "code",
      "source": [
        "# importing the dependencies\n",
        "import keras\n",
        "import itertools\n",
        "import tensorflow as tf\n",
        "from keras import backend as k\n",
        "import numpy as np\n",
        "import pandas as pd\n",
        "from  matplotlib import pyplot as plt\n",
        "from IPython.display import clear_output\n",
        "import cv2\n",
        "from sklearn.model_selection import train_test_split\n",
        "from keras.models import Sequential\n",
        "from sklearn.preprocessing import LabelEncoder\n",
        "from keras.utils import np_utils\n",
        "from keras.layers import Dense,Flatten,BatchNormalization,Conv2D,MaxPooling2D,Dropout,AveragePooling2D\n",
        "from sklearn.metrics import confusion_matrix"
      ],
      "execution_count": 0,
      "outputs": []
    },
    {
      "metadata": {
        "id": "bB0tP9R2sbP5",
        "colab_type": "code",
        "colab": {
          "autoexec": {
            "startup": false,
            "wait_interval": 0
          },
          "base_uri": "https://localhost:8080/",
          "height": 2526
        },
        "outputId": "0384d0ee-3069-45ff-f115-fd484d3ea9c2",
        "executionInfo": {
          "status": "ok",
          "timestamp": 1527134172559,
          "user_tz": -330,
          "elapsed": 30666,
          "user": {
            "displayName": "Aditya Singh",
            "photoUrl": "//lh6.googleusercontent.com/-xEQtrPr4tTI/AAAAAAAAAAI/AAAAAAAAHbA/2VsDdjbtYDE/s50-c-k-no/photo.jpg",
            "userId": "114631778943688079875"
          }
        }
      },
      "cell_type": "code",
      "source": [
        "# Install a Drive FUSE wrapper.\n",
        "\n",
        "# https://github.com/astrada/google-drive-ocamlfuse\n",
        "\n",
        "!apt-get install -y -qq software-properties-common python-software-properties module-init-tools\n",
        "\n",
        "!add-apt-repository -y ppa:alessandro-strada/ppa 2>&1 > /dev/null\n",
        "\n",
        "!apt-get update -qq 2>&1 > /dev/null\n",
        "\n",
        "!apt-get -y install -qq google-drive-ocamlfuse fuse"
      ],
      "execution_count": 6,
      "outputs": [
        {
          "output_type": "stream",
          "text": [
            "Preconfiguring packages ...\n",
            "Selecting previously unselected package cron.\n",
            "(Reading database ... 18298 files and directories currently installed.)\n",
            "Preparing to unpack .../00-cron_3.0pl1-128ubuntu5_amd64.deb ...\n",
            "Unpacking cron (3.0pl1-128ubuntu5) ...\n",
            "Selecting previously unselected package libapparmor1:amd64.\n",
            "Preparing to unpack .../01-libapparmor1_2.11.0-2ubuntu17.1_amd64.deb ...\n",
            "Unpacking libapparmor1:amd64 (2.11.0-2ubuntu17.1) ...\n",
            "Selecting previously unselected package libdbus-1-3:amd64.\n",
            "Preparing to unpack .../02-libdbus-1-3_1.10.22-1ubuntu1_amd64.deb ...\n",
            "Unpacking libdbus-1-3:amd64 (1.10.22-1ubuntu1) ...\n",
            "Selecting previously unselected package dbus.\n",
            "Preparing to unpack .../03-dbus_1.10.22-1ubuntu1_amd64.deb ...\n",
            "Unpacking dbus (1.10.22-1ubuntu1) ...\n",
            "Selecting previously unselected package dirmngr.\n",
            "Preparing to unpack .../04-dirmngr_2.1.15-1ubuntu8_amd64.deb ...\n",
            "Unpacking dirmngr (2.1.15-1ubuntu8) ...\n",
            "Selecting previously unselected package distro-info-data.\n",
            "Preparing to unpack .../05-distro-info-data_0.36ubuntu0.2_all.deb ...\n",
            "Unpacking distro-info-data (0.36ubuntu0.2) ...\n",
            "Selecting previously unselected package libkmod2:amd64.\n",
            "Preparing to unpack .../06-libkmod2_24-1ubuntu2_amd64.deb ...\n",
            "Unpacking libkmod2:amd64 (24-1ubuntu2) ...\n",
            "Selecting previously unselected package kmod.\n",
            "Preparing to unpack .../07-kmod_24-1ubuntu2_amd64.deb ...\n",
            "Unpacking kmod (24-1ubuntu2) ...\n",
            "Selecting previously unselected package lsb-release.\n",
            "Preparing to unpack .../08-lsb-release_9.20160110ubuntu5_all.deb ...\n",
            "Unpacking lsb-release (9.20160110ubuntu5) ...\n",
            "Selecting previously unselected package libgirepository-1.0-1:amd64.\n",
            "Preparing to unpack .../09-libgirepository-1.0-1_1.54.1-1_amd64.deb ...\n",
            "Unpacking libgirepository-1.0-1:amd64 (1.54.1-1) ...\n",
            "Selecting previously unselected package gir1.2-glib-2.0:amd64.\n",
            "Preparing to unpack .../10-gir1.2-glib-2.0_1.54.1-1_amd64.deb ...\n",
            "Unpacking gir1.2-glib-2.0:amd64 (1.54.1-1) ...\n",
            "Selecting previously unselected package iso-codes.\n",
            "Preparing to unpack .../11-iso-codes_3.75-1_all.deb ...\n",
            "Unpacking iso-codes (3.75-1) ...\n",
            "Selecting previously unselected package libdbus-glib-1-2:amd64.\n",
            "Preparing to unpack .../12-libdbus-glib-1-2_0.108-2_amd64.deb ...\n",
            "Unpacking libdbus-glib-1-2:amd64 (0.108-2) ...\n",
            "Selecting previously unselected package python-apt-common.\n",
            "Preparing to unpack .../13-python-apt-common_1.4.0~beta3build2_all.deb ...\n",
            "Unpacking python-apt-common (1.4.0~beta3build2) ...\n",
            "Selecting previously unselected package python3-apt.\n",
            "Preparing to unpack .../14-python3-apt_1.4.0~beta3build2_amd64.deb ...\n",
            "Unpacking python3-apt (1.4.0~beta3build2) ...\n",
            "Selecting previously unselected package python3-dbus.\n",
            "Preparing to unpack .../15-python3-dbus_1.2.4-1build3_amd64.deb ...\n",
            "Unpacking python3-dbus (1.2.4-1build3) ...\n",
            "Selecting previously unselected package python3-gi.\n",
            "Preparing to unpack .../16-python3-gi_3.24.1-2build1_amd64.deb ...\n",
            "Unpacking python3-gi (3.24.1-2build1) ...\n",
            "Selecting previously unselected package module-init-tools.\n",
            "Preparing to unpack .../17-module-init-tools_24-1ubuntu2_all.deb ...\n",
            "Unpacking module-init-tools (24-1ubuntu2) ...\n",
            "Selecting previously unselected package python-apt.\n",
            "Preparing to unpack .../18-python-apt_1.4.0~beta3build2_amd64.deb ...\n",
            "Unpacking python-apt (1.4.0~beta3build2) ...\n",
            "Selecting previously unselected package python-pycurl.\n",
            "Preparing to unpack .../19-python-pycurl_7.43.0-2build2_amd64.deb ...\n",
            "Unpacking python-pycurl (7.43.0-2build2) ...\n",
            "Selecting previously unselected package python-software-properties.\n",
            "Preparing to unpack .../20-python-software-properties_0.96.24.17_all.deb ...\n",
            "Unpacking python-software-properties (0.96.24.17) ...\n",
            "Selecting previously unselected package python3-software-properties.\n",
            "Preparing to unpack .../21-python3-software-properties_0.96.24.17_all.deb ...\n",
            "Unpacking python3-software-properties (0.96.24.17) ...\n",
            "Selecting previously unselected package software-properties-common.\n",
            "Preparing to unpack .../22-software-properties-common_0.96.24.17_all.deb ...\n",
            "Unpacking software-properties-common (0.96.24.17) ...\n",
            "Selecting previously unselected package unattended-upgrades.\n",
            "Preparing to unpack .../23-unattended-upgrades_0.98ubuntu1.1_all.deb ...\n",
            "Unpacking unattended-upgrades (0.98ubuntu1.1) ...\n",
            "Setting up python-apt-common (1.4.0~beta3build2) ...\n",
            "Setting up python3-apt (1.4.0~beta3build2) ...\n",
            "Setting up iso-codes (3.75-1) ...\n",
            "Setting up distro-info-data (0.36ubuntu0.2) ...\n",
            "Setting up python-pycurl (7.43.0-2build2) ...\n",
            "Setting up lsb-release (9.20160110ubuntu5) ...\n",
            "Setting up libgirepository-1.0-1:amd64 (1.54.1-1) ...\n",
            "Setting up libkmod2:amd64 (24-1ubuntu2) ...\n",
            "Setting up gir1.2-glib-2.0:amd64 (1.54.1-1) ...\n",
            "Processing triggers for libc-bin (2.26-0ubuntu2.1) ...\n"
          ],
          "name": "stdout"
        },
        {
          "output_type": "stream",
          "text": [
            "Setting up libapparmor1:amd64 (2.11.0-2ubuntu17.1) ...\r\n",
            "Setting up unattended-upgrades (0.98ubuntu1.1) ...\n",
            "\n",
            "Creating config file /etc/apt/apt.conf.d/20auto-upgrades with new version\n",
            "\n",
            "Creating config file /etc/apt/apt.conf.d/50unattended-upgrades with new version\n",
            "invoke-rc.d: could not determine current runlevel\n",
            "invoke-rc.d: policy-rc.d denied execution of start.\n",
            "Setting up dirmngr (2.1.15-1ubuntu8) ...\n",
            "Setting up cron (3.0pl1-128ubuntu5) ...\n",
            "Adding group `crontab' (GID 102) ...\n",
            "Done.\n",
            "update-rc.d: warning: start and stop actions are no longer supported; falling back to defaults\n",
            "update-rc.d: warning: stop runlevel arguments (1) do not match cron Default-Stop values (none)\n",
            "invoke-rc.d: could not determine current runlevel\n",
            "invoke-rc.d: policy-rc.d denied execution of start.\n",
            "Setting up libdbus-1-3:amd64 (1.10.22-1ubuntu1) ...\n",
            "Setting up kmod (24-1ubuntu2) ...\n",
            "Setting up libdbus-glib-1-2:amd64 (0.108-2) ...\n",
            "Setting up python3-gi (3.24.1-2build1) ...\n",
            "Setting up module-init-tools (24-1ubuntu2) ...\n",
            "Setting up python3-software-properties (0.96.24.17) ...\n",
            "Setting up dbus (1.10.22-1ubuntu1) ...\n",
            "Setting up python-apt (1.4.0~beta3build2) ...\n",
            "Setting up python3-dbus (1.2.4-1build3) ...\n",
            "Setting up python-software-properties (0.96.24.17) ...\n",
            "Setting up software-properties-common (0.96.24.17) ...\n",
            "Processing triggers for libc-bin (2.26-0ubuntu2.1) ...\n",
            "Processing triggers for dbus (1.10.22-1ubuntu1) ...\n",
            "gpg: keybox '/tmp/tmp3sgc2o7p/pubring.gpg' created\n",
            "gpg: /tmp/tmp3sgc2o7p/trustdb.gpg: trustdb created\n",
            "gpg: key AD5F235DF639B041: public key \"Launchpad PPA for Alessandro Strada\" imported\n",
            "gpg: Total number processed: 1\n",
            "gpg:               imported: 1\n",
            "Warning: apt-key output should not be parsed (stdout is not a terminal)\n",
            "Selecting previously unselected package libfuse2:amd64.\n",
            "(Reading database ... 19706 files and directories currently installed.)\n",
            "Preparing to unpack .../libfuse2_2.9.7-1ubuntu1_amd64.deb ...\n",
            "Unpacking libfuse2:amd64 (2.9.7-1ubuntu1) ...\n",
            "Selecting previously unselected package fuse.\n",
            "Preparing to unpack .../fuse_2.9.7-1ubuntu1_amd64.deb ...\n",
            "Unpacking fuse (2.9.7-1ubuntu1) ...\n",
            "Selecting previously unselected package google-drive-ocamlfuse.\n",
            "Preparing to unpack .../google-drive-ocamlfuse_0.6.21-0ubuntu2_amd64.deb ...\n",
            "Unpacking google-drive-ocamlfuse (0.6.21-0ubuntu2) ...\n",
            "Setting up libfuse2:amd64 (2.9.7-1ubuntu1) ...\n",
            "Processing triggers for libc-bin (2.26-0ubuntu2.1) ...\n",
            "Setting up fuse (2.9.7-1ubuntu1) ...\n",
            "Setting up google-drive-ocamlfuse (0.6.21-0ubuntu2) ...\n"
          ],
          "name": "stdout"
        }
      ]
    },
    {
      "metadata": {
        "id": "SpAAldaWsh3A",
        "colab_type": "code",
        "colab": {
          "autoexec": {
            "startup": false,
            "wait_interval": 0
          }
        }
      },
      "cell_type": "code",
      "source": [
        "# Generate auth tokens for Colab\n",
        "\n",
        "from google.colab import auth \n",
        "auth.authenticate_user()"
      ],
      "execution_count": 0,
      "outputs": []
    },
    {
      "metadata": {
        "id": "CUK2RQ9-slH1",
        "colab_type": "code",
        "colab": {
          "autoexec": {
            "startup": false,
            "wait_interval": 0
          },
          "base_uri": "https://localhost:8080/",
          "height": 112
        },
        "outputId": "13cdd6fb-eb57-4785-a920-a6758ac63981",
        "executionInfo": {
          "status": "ok",
          "timestamp": 1527134224637,
          "user_tz": -330,
          "elapsed": 20763,
          "user": {
            "displayName": "Aditya Singh",
            "photoUrl": "//lh6.googleusercontent.com/-xEQtrPr4tTI/AAAAAAAAAAI/AAAAAAAAHbA/2VsDdjbtYDE/s50-c-k-no/photo.jpg",
            "userId": "114631778943688079875"
          }
        }
      },
      "cell_type": "code",
      "source": [
        "# Generate creds for the Drive FUSE library.\n",
        "\n",
        "from oauth2client.client import GoogleCredentials \n",
        "creds = GoogleCredentials.get_application_default()\n",
        "\n",
        "import getpass\n",
        "\n",
        "!google-drive-ocamlfuse -headless -id={creds.client_id} -secret={creds.client_secret} < /dev/null 2>&1 | grep URL\n",
        "\n",
        "vcode = getpass.getpass()\n",
        "\n",
        "!echo {vcode} | google-drive-ocamlfuse -headless -id={creds.client_id} -secret={creds.client_secret}"
      ],
      "execution_count": 8,
      "outputs": [
        {
          "output_type": "stream",
          "text": [
            "Please, open the following URL in a web browser: https://accounts.google.com/o/oauth2/auth?client_id=32555940559.apps.googleusercontent.com&redirect_uri=urn%3Aietf%3Awg%3Aoauth%3A2.0%3Aoob&scope=https%3A%2F%2Fwww.googleapis.com%2Fauth%2Fdrive&response_type=code&access_type=offline&approval_prompt=force\r\n",
            "··········\n",
            "Please, open the following URL in a web browser: https://accounts.google.com/o/oauth2/auth?client_id=32555940559.apps.googleusercontent.com&redirect_uri=urn%3Aietf%3Awg%3Aoauth%3A2.0%3Aoob&scope=https%3A%2F%2Fwww.googleapis.com%2Fauth%2Fdrive&response_type=code&access_type=offline&approval_prompt=force\n",
            "Please enter the verification code: Access token retrieved correctly.\n"
          ],
          "name": "stdout"
        }
      ]
    },
    {
      "metadata": {
        "id": "9-n4w3-Qsuez",
        "colab_type": "code",
        "colab": {
          "autoexec": {
            "startup": false,
            "wait_interval": 0
          }
        }
      },
      "cell_type": "code",
      "source": [
        "# Create a directory and mount Google Drive using that directory.\n",
        "\n",
        "!mkdir -p drive\n",
        "\n",
        "!google-drive-ocamlfuse drive"
      ],
      "execution_count": 0,
      "outputs": []
    },
    {
      "metadata": {
        "id": "J1XLjPukoltC",
        "colab_type": "code",
        "colab": {
          "autoexec": {
            "startup": false,
            "wait_interval": 0
          },
          "base_uri": "https://localhost:8080/",
          "height": 1224
        },
        "outputId": "e7585f77-9885-4a93-c820-13541cbb7d04",
        "executionInfo": {
          "status": "ok",
          "timestamp": 1527140247705,
          "user_tz": -330,
          "elapsed": 7740,
          "user": {
            "displayName": "Aditya Singh",
            "photoUrl": "//lh6.googleusercontent.com/-xEQtrPr4tTI/AAAAAAAAAAI/AAAAAAAAHbA/2VsDdjbtYDE/s50-c-k-no/photo.jpg",
            "userId": "114631778943688079875"
          }
        }
      },
      "cell_type": "code",
      "source": [
        "# reading the data file\n",
        "data =pd.read_csv('drive/Colab Notebooks/data.csv')\n",
        "print(data.head)"
      ],
      "execution_count": 38,
      "outputs": [
        {
          "output_type": "stream",
          "text": [
            "<bound method NDFrame.head of        emotion                                             pixels        Usage\n",
            "0            0  70 80 82 72 58 58 60 63 54 58 60 48 89 115 121...     Training\n",
            "1            0  151 150 147 155 148 133 111 140 170 174 182 15...     Training\n",
            "2            2  231 212 156 164 174 138 161 173 182 200 106 38...     Training\n",
            "3            4  24 32 36 30 32 23 19 20 30 41 21 22 32 34 21 1...     Training\n",
            "4            6  4 0 0 0 0 0 0 0 0 0 0 0 3 15 23 28 48 50 58 84...     Training\n",
            "5            2  55 55 55 55 55 54 60 68 54 85 151 163 170 179 ...     Training\n",
            "6            4  20 17 19 21 25 38 42 42 46 54 56 62 63 66 82 1...     Training\n",
            "7            3  77 78 79 79 78 75 60 55 47 48 58 73 77 79 57 5...     Training\n",
            "8            3  85 84 90 121 101 102 133 153 153 169 177 189 1...     Training\n",
            "9            2  255 254 255 254 254 179 122 107 95 124 149 150...     Training\n",
            "10           0  30 24 21 23 25 25 49 67 84 103 120 125 130 139...     Training\n",
            "11           6  39 75 78 58 58 45 49 48 103 156 81 45 41 38 49...     Training\n",
            "12           6  219 213 206 202 209 217 216 215 219 218 223 23...     Training\n",
            "13           6  148 144 130 129 119 122 129 131 139 153 140 12...     Training\n",
            "14           3  4 2 13 41 56 62 67 87 95 62 65 70 80 107 127 1...     Training\n",
            "15           5  107 107 109 109 109 109 110 101 123 140 144 14...     Training\n",
            "16           3  14 14 18 28 27 22 21 30 42 61 77 86 88 95 100 ...     Training\n",
            "17           2  255 255 255 255 255 255 255 255 255 255 255 25...     Training\n",
            "18           6  134 124 167 180 197 194 203 210 204 203 209 20...     Training\n",
            "19           4  219 192 179 148 208 254 192 98 121 103 145 185...     Training\n",
            "20           4  1 1 1 1 1 1 1 1 1 1 1 1 2 2 2 2 7 12 23 45 38 ...     Training\n",
            "21           2  174 51 37 37 38 41 22 25 22 24 35 51 70 83 98 ...     Training\n",
            "22           0  123 125 124 142 209 226 234 236 231 232 235 22...     Training\n",
            "23           0  8 9 14 21 26 32 37 46 52 62 72 70 71 73 76 83 ...     Training\n",
            "24           3  252 250 246 229 182 140 98 72 53 44 67 95 95 8...     Training\n",
            "25           3  224 227 219 217 215 210 187 177 189 200 206 21...     Training\n",
            "26           5  162 200 187 180 197 198 196 192 176 152 136 11...     Training\n",
            "27           0  236 230 225 226 228 209 199 193 196 211 199 19...     Training\n",
            "28           3  210 210 210 210 211 207 147 103 68 60 47 70 12...     Training\n",
            "29           5  50 44 74 141 187 187 169 113 80 128 181 172 76...     Training\n",
            "...        ...                                                ...          ...\n",
            "35857        5  253 255 229 150 89 61 54 60 55 49 61 50 56 45 ...  PrivateTest\n",
            "35858        4  11 11 11 13 20 27 38 41 38 34 20 13 10 39 85 1...  PrivateTest\n",
            "35859        4  11 13 16 27 24 26 89 161 190 197 201 206 210 2...  PrivateTest\n",
            "35860        3  27 42 62 91 112 118 122 123 119 124 129 131 13...  PrivateTest\n",
            "35861        6  233 232 208 188 194 179 177 167 157 180 185 19...  PrivateTest\n",
            "35862        2  73 54 63 76 82 71 67 69 73 72 92 98 117 119 14...  PrivateTest\n",
            "35863        5  196 196 197 197 198 198 198 196 176 148 122 10...  PrivateTest\n",
            "35864        4  68 59 65 78 118 131 137 141 142 135 135 137 13...  PrivateTest\n",
            "35865        3  102 109 109 106 104 107 112 109 116 119 117 12...  PrivateTest\n",
            "35866        6  87 82 59 61 72 102 143 130 90 95 143 173 146 1...  PrivateTest\n",
            "35867        3  198 198 197 196 196 197 196 196 196 195 196 18...  PrivateTest\n",
            "35868        2  204 209 215 218 214 214 214 217 205 175 170 16...  PrivateTest\n",
            "35869        3  217 220 222 223 223 224 225 223 223 225 223 22...  PrivateTest\n",
            "35870        2  6 8 4 5 30 48 61 70 76 79 98 117 130 137 143 1...  PrivateTest\n",
            "35871        6  112 102 98 89 98 133 164 185 180 179 185 169 1...  PrivateTest\n",
            "35872        5  131 159 90 59 10 0 1 1 1 0 1 1 0 0 2 2 5 7 9 1...  PrivateTest\n",
            "35873        4  54 57 77 122 121 76 73 80 58 22 26 27 35 41 66...  PrivateTest\n",
            "35874        5  43 43 51 73 94 97 102 95 99 107 126 144 154 17...  PrivateTest\n",
            "35875        5  248 251 239 144 102 95 82 77 91 138 153 145 14...  PrivateTest\n",
            "35876        6  29 29 27 31 49 56 29 19 22 20 34 43 55 71 85 9...  PrivateTest\n",
            "35877        6  139 143 145 154 159 168 176 181 190 191 195 19...  PrivateTest\n",
            "35878        3  0 39 81 80 104 97 51 64 68 46 41 67 53 68 70 5...  PrivateTest\n",
            "35879        2  0 0 6 16 19 31 47 18 26 19 17 8 15 3 4 2 14 20...  PrivateTest\n",
            "35880        2  164 172 175 171 172 173 178 181 188 192 197 20...  PrivateTest\n",
            "35881        0  181 177 176 156 178 144 136 132 122 107 131 16...  PrivateTest\n",
            "35882        6  50 36 17 22 23 29 33 39 34 37 37 37 39 43 48 5...  PrivateTest\n",
            "35883        3  178 174 172 173 181 188 191 194 196 199 200 20...  PrivateTest\n",
            "35884        0  17 17 16 23 28 22 19 17 25 26 20 24 31 19 27 9...  PrivateTest\n",
            "35885        3  30 28 28 29 31 30 42 68 79 81 77 67 67 71 63 6...  PrivateTest\n",
            "35886        2  19 13 14 12 13 16 21 33 50 57 71 84 97 108 122...  PrivateTest\n",
            "\n",
            "[35887 rows x 3 columns]>\n"
          ],
          "name": "stdout"
        }
      ]
    },
    {
      "metadata": {
        "id": "TCheOkrovgTy",
        "colab_type": "code",
        "colab": {
          "autoexec": {
            "startup": false,
            "wait_interval": 0
          }
        }
      },
      "cell_type": "code",
      "source": [
        "# training data input\n",
        "X = data['pixels']"
      ],
      "execution_count": 0,
      "outputs": []
    },
    {
      "metadata": {
        "id": "TtCxG4tDvhu3",
        "colab_type": "code",
        "colab": {
          "autoexec": {
            "startup": false,
            "wait_interval": 0
          }
        }
      },
      "cell_type": "code",
      "source": [
        "# training data target output\n",
        "y = data['emotion']"
      ],
      "execution_count": 0,
      "outputs": []
    },
    {
      "metadata": {
        "id": "phdaXYCSv4zY",
        "colab_type": "code",
        "colab": {
          "autoexec": {
            "startup": false,
            "wait_interval": 0
          },
          "base_uri": "https://localhost:8080/",
          "height": 36
        },
        "outputId": "011434c6-1bdb-43f7-b127-07e6ff5ab32d",
        "executionInfo": {
          "status": "ok",
          "timestamp": 1527140370578,
          "user_tz": -330,
          "elapsed": 114723,
          "user": {
            "displayName": "Aditya Singh",
            "photoUrl": "//lh6.googleusercontent.com/-xEQtrPr4tTI/AAAAAAAAAAI/AAAAAAAAHbA/2VsDdjbtYDE/s50-c-k-no/photo.jpg",
            "userId": "114631778943688079875"
          }
        }
      },
      "cell_type": "code",
      "source": [
        "# splitting individual pixels so that we can feed it into neural network\n",
        "new_x = []\n",
        "i = 0\n",
        "\n",
        "while i<35887:\n",
        "    k = 0\n",
        "    insert = [0] * 2304\n",
        "    val = X[i]\n",
        "    val = val.split(' ')\n",
        "    count = 0\n",
        "    while k<2304:\n",
        "        insert[k] = (int)(val[k])\n",
        "        # to make input between 0 and 1\n",
        "        count = count + insert[k]\n",
        "        k = k +1\n",
        "    count = count /(48*48)\n",
        "    k = 0\n",
        "    while k<2304:\n",
        "        insert[k] = (int)(val[k])\n",
        "        # to make input between 0 and 1\n",
        "        insert[k] = insert[k] - count\n",
        "        k = k +1\n",
        "    \n",
        "    new_x.append(insert)\n",
        "    i = i +1\n",
        "new_x = np.asarray(new_x)\n",
        "print('Done')"
      ],
      "execution_count": 41,
      "outputs": [
        {
          "output_type": "stream",
          "text": [
            "Done\n"
          ],
          "name": "stdout"
        }
      ]
    },
    {
      "metadata": {
        "id": "aMj0G6zMvki7",
        "colab_type": "code",
        "colab": {
          "autoexec": {
            "startup": false,
            "wait_interval": 0
          }
        }
      },
      "cell_type": "code",
      "source": [
        "# reshaping the input \n",
        "new_x  = np.reshape(new_x, (35887,48,48,1))\n",
        "# setting X for the sake of consistency\n",
        "X = new_x"
      ],
      "execution_count": 0,
      "outputs": []
    },
    {
      "metadata": {
        "id": "9xJT1mduv4Tx",
        "colab_type": "code",
        "colab": {
          "autoexec": {
            "startup": false,
            "wait_interval": 0
          }
        }
      },
      "cell_type": "code",
      "source": [
        "# configuring the image generator\n",
        "from keras.preprocessing.image import ImageDataGenerator\n",
        "gen = ImageDataGenerator(\n",
        "                        zoom_range=.3,\n",
        "                         horizontal_flip= True,\n",
        "                         vertical_flip = True\n",
        "                        )"
      ],
      "execution_count": 0,
      "outputs": []
    },
    {
      "metadata": {
        "id": "nQ6-WOqwwfvx",
        "colab_type": "code",
        "colab": {
          "autoexec": {
            "startup": false,
            "wait_interval": 0
          },
          "base_uri": "https://localhost:8080/",
          "height": 1187
        },
        "outputId": "8fa26d56-a9ef-407a-e0cb-f2a968a77d38",
        "executionInfo": {
          "status": "ok",
          "timestamp": 1527140373378,
          "user_tz": -330,
          "elapsed": 1229,
          "user": {
            "displayName": "Aditya Singh",
            "photoUrl": "//lh6.googleusercontent.com/-xEQtrPr4tTI/AAAAAAAAAAI/AAAAAAAAHbA/2VsDdjbtYDE/s50-c-k-no/photo.jpg",
            "userId": "114631778943688079875"
          }
        }
      },
      "cell_type": "code",
      "source": [
        "print(y)"
      ],
      "execution_count": 43,
      "outputs": [
        {
          "output_type": "stream",
          "text": [
            "0        0\n",
            "1        0\n",
            "2        2\n",
            "3        4\n",
            "4        6\n",
            "5        2\n",
            "6        4\n",
            "7        3\n",
            "8        3\n",
            "9        2\n",
            "10       0\n",
            "11       6\n",
            "12       6\n",
            "13       6\n",
            "14       3\n",
            "15       5\n",
            "16       3\n",
            "17       2\n",
            "18       6\n",
            "19       4\n",
            "20       4\n",
            "21       2\n",
            "22       0\n",
            "23       0\n",
            "24       3\n",
            "25       3\n",
            "26       5\n",
            "27       0\n",
            "28       3\n",
            "29       5\n",
            "        ..\n",
            "35857    5\n",
            "35858    4\n",
            "35859    4\n",
            "35860    3\n",
            "35861    6\n",
            "35862    2\n",
            "35863    5\n",
            "35864    4\n",
            "35865    3\n",
            "35866    6\n",
            "35867    3\n",
            "35868    2\n",
            "35869    3\n",
            "35870    2\n",
            "35871    6\n",
            "35872    5\n",
            "35873    4\n",
            "35874    5\n",
            "35875    5\n",
            "35876    6\n",
            "35877    6\n",
            "35878    3\n",
            "35879    2\n",
            "35880    2\n",
            "35881    0\n",
            "35882    6\n",
            "35883    3\n",
            "35884    0\n",
            "35885    3\n",
            "35886    2\n",
            "Name: emotion, Length: 35887, dtype: int64\n"
          ],
          "name": "stdout"
        }
      ]
    },
    {
      "metadata": {
        "id": "yXcwiZlvo-u7",
        "colab_type": "code",
        "colab": {
          "autoexec": {
            "startup": false,
            "wait_interval": 0
          }
        }
      },
      "cell_type": "code",
      "source": [
        "# we will on hot encode y\n",
        "encoder = LabelEncoder()\n",
        "encoder.fit(y)\n",
        "encoded_y = encoder.transform(y)\n",
        "# convert integers to dummy variables (i.e. one hot encoded)\n",
        "y = np_utils.to_categorical(encoded_y)"
      ],
      "execution_count": 0,
      "outputs": []
    },
    {
      "metadata": {
        "id": "Jf6gRNamxDYW",
        "colab_type": "code",
        "colab": {
          "autoexec": {
            "startup": false,
            "wait_interval": 0
          }
        }
      },
      "cell_type": "code",
      "source": [
        "# training data\n",
        "X_train = X[0:28710]\n",
        "y_train = y[0:28710]"
      ],
      "execution_count": 0,
      "outputs": []
    },
    {
      "metadata": {
        "id": "UKx6z9V6xF3r",
        "colab_type": "code",
        "colab": {
          "autoexec": {
            "startup": false,
            "wait_interval": 0
          }
        }
      },
      "cell_type": "code",
      "source": [
        "# testing data (leaderboard )\n",
        "X_test_lb = X[28711:35888]\n",
        "y_test_lb = y[28711:35888]"
      ],
      "execution_count": 0,
      "outputs": []
    },
    {
      "metadata": {
        "id": "h4lWArzzpCiK",
        "colab_type": "code",
        "colab": {
          "autoexec": {
            "startup": false,
            "wait_interval": 0
          }
        }
      },
      "cell_type": "code",
      "source": [
        "#This will help us to see the learning curve and detect over fitting \n",
        "class PlotLosses(keras.callbacks.Callback):\n",
        "    def on_train_begin(self, logs={}):\n",
        "        self.i = 0\n",
        "        self.x = []\n",
        "        self.losses = []\n",
        "        self.val_losses = []\n",
        "        \n",
        "        self.fig = plt.figure()\n",
        "        \n",
        "        self.logs = []\n",
        "\n",
        "    def on_epoch_end(self, epoch, logs={}):\n",
        "        \n",
        "        self.logs.append(logs)\n",
        "        self.x.append(self.i)\n",
        "        self.losses.append(logs.get('loss'))\n",
        "        self.val_losses.append(logs.get('val_loss'))\n",
        "        self.i += 1\n",
        "        \n",
        "        clear_output(wait=True)\n",
        "        plt.plot(self.x, self.losses, label=\"loss\")\n",
        "        plt.plot(self.x, self.val_losses, label=\"val_loss\")\n",
        "        plt.legend()\n",
        "        plt.show();\n",
        "        \n",
        "plot_losses = PlotLosses()"
      ],
      "execution_count": 0,
      "outputs": []
    },
    {
      "metadata": {
        "id": "vLJHO12UpFH5",
        "colab_type": "code",
        "colab": {
          "autoexec": {
            "startup": false,
            "wait_interval": 0
          },
          "base_uri": "https://localhost:8080/",
          "height": 1017
        },
        "outputId": "2f8484bd-2d30-40aa-9c2a-836f79a7de7a",
        "executionInfo": {
          "status": "ok",
          "timestamp": 1527143204279,
          "user_tz": -330,
          "elapsed": 1853,
          "user": {
            "displayName": "Aditya Singh",
            "photoUrl": "//lh6.googleusercontent.com/-xEQtrPr4tTI/AAAAAAAAAAI/AAAAAAAAHbA/2VsDdjbtYDE/s50-c-k-no/photo.jpg",
            "userId": "114631778943688079875"
          }
        }
      },
      "cell_type": "code",
      "source": [
        "# now we will build a model to learn input patameters\n",
        "model = Sequential()\n",
        "\n",
        "# First convolutional layer with max pooling\n",
        "model.add(Conv2D(512, (3, 3), padding=\"same\", input_shape=(48,48,1), activation=\"relu\"))\n",
        "model.add(MaxPooling2D(pool_size=(2,2)))\n",
        "model.add(Dropout(.5))\n",
        "model.add(BatchNormalization())\n",
        "\n",
        "\n",
        "# third convolutional layer with max pooling\n",
        "model.add(Conv2D(256, (3, 3), padding=\"same\", activation=\"relu\"))\n",
        "model.add(MaxPooling2D(pool_size=(2,2)))\n",
        "model.add(Dropout(.5))\n",
        "model.add(BatchNormalization())\n",
        "\n",
        "\n",
        "# third convolutional layer with max pooling\n",
        "model.add(Conv2D(128, (3,3), padding=\"same\", activation=\"relu\"))\n",
        "model.add(MaxPooling2D(pool_size=(2,2)))\n",
        "model.add(Dropout(.5))\n",
        "model.add(BatchNormalization())\n",
        "\n",
        "model.add(Flatten())\n",
        "\n",
        "model.add(Dense(1000))\n",
        "model.add(Dropout(.5))\n",
        "model.add(BatchNormalization())\n",
        "\n",
        "\n",
        "model.add(Dense(512))\n",
        "model.add(Dropout(.5))\n",
        "model.add(BatchNormalization())\n",
        "\n",
        "\n",
        "model.add(Dense(256))\n",
        "model.add(Dropout(.5))\n",
        "model.add(BatchNormalization())\n",
        "\n",
        "\n",
        "\n",
        "\n",
        "# Output layer with 32 nodes (one for each possible letter/number we predict)\n",
        "model.add(Dense(7, activation=\"softmax\"))\n",
        "\n",
        "# Ask Keras to build the TensorFlow model behind the scenes\n",
        "model.compile(loss=\"categorical_crossentropy\", optimizer=\"rmsprop\",\n",
        "              metrics=[\"accuracy\"])\n",
        "model.summary()"
      ],
      "execution_count": 78,
      "outputs": [
        {
          "output_type": "stream",
          "text": [
            "_________________________________________________________________\n",
            "Layer (type)                 Output Shape              Param #   \n",
            "=================================================================\n",
            "conv2d_31 (Conv2D)           (None, 48, 48, 512)       5120      \n",
            "_________________________________________________________________\n",
            "max_pooling2d_28 (MaxPooling (None, 24, 24, 512)       0         \n",
            "_________________________________________________________________\n",
            "dropout_49 (Dropout)         (None, 24, 24, 512)       0         \n",
            "_________________________________________________________________\n",
            "batch_normalization_49 (Batc (None, 24, 24, 512)       2048      \n",
            "_________________________________________________________________\n",
            "conv2d_32 (Conv2D)           (None, 24, 24, 256)       1179904   \n",
            "_________________________________________________________________\n",
            "max_pooling2d_29 (MaxPooling (None, 12, 12, 256)       0         \n",
            "_________________________________________________________________\n",
            "dropout_50 (Dropout)         (None, 12, 12, 256)       0         \n",
            "_________________________________________________________________\n",
            "batch_normalization_50 (Batc (None, 12, 12, 256)       1024      \n",
            "_________________________________________________________________\n",
            "conv2d_33 (Conv2D)           (None, 12, 12, 128)       295040    \n",
            "_________________________________________________________________\n",
            "max_pooling2d_30 (MaxPooling (None, 6, 6, 128)         0         \n",
            "_________________________________________________________________\n",
            "dropout_51 (Dropout)         (None, 6, 6, 128)         0         \n",
            "_________________________________________________________________\n",
            "batch_normalization_51 (Batc (None, 6, 6, 128)         512       \n",
            "_________________________________________________________________\n",
            "flatten_10 (Flatten)         (None, 4608)              0         \n",
            "_________________________________________________________________\n",
            "dense_28 (Dense)             (None, 1000)              4609000   \n",
            "_________________________________________________________________\n",
            "dropout_52 (Dropout)         (None, 1000)              0         \n",
            "_________________________________________________________________\n",
            "batch_normalization_52 (Batc (None, 1000)              4000      \n",
            "_________________________________________________________________\n",
            "dense_29 (Dense)             (None, 512)               512512    \n",
            "_________________________________________________________________\n",
            "dropout_53 (Dropout)         (None, 512)               0         \n",
            "_________________________________________________________________\n",
            "batch_normalization_53 (Batc (None, 512)               2048      \n",
            "_________________________________________________________________\n",
            "dense_30 (Dense)             (None, 256)               131328    \n",
            "_________________________________________________________________\n",
            "dropout_54 (Dropout)         (None, 256)               0         \n",
            "_________________________________________________________________\n",
            "batch_normalization_54 (Batc (None, 256)               1024      \n",
            "_________________________________________________________________\n",
            "dense_31 (Dense)             (None, 7)                 1799      \n",
            "=================================================================\n",
            "Total params: 6,745,359\n",
            "Trainable params: 6,740,031\n",
            "Non-trainable params: 5,328\n",
            "_________________________________________________________________\n"
          ],
          "name": "stdout"
        }
      ]
    },
    {
      "metadata": {
        "id": "y6h7dPDypIPt",
        "colab_type": "code",
        "colab": {
          "autoexec": {
            "startup": false,
            "wait_interval": 0
          },
          "base_uri": "https://localhost:8080/",
          "height": 1941
        },
        "outputId": "01addd2a-3a25-4be9-aff3-b026e4eaf01c",
        "executionInfo": {
          "status": "error",
          "timestamp": 1527145041565,
          "user_tz": -330,
          "elapsed": 16581,
          "user": {
            "displayName": "Aditya Singh",
            "photoUrl": "//lh6.googleusercontent.com/-xEQtrPr4tTI/AAAAAAAAAAI/AAAAAAAAHbA/2VsDdjbtYDE/s50-c-k-no/photo.jpg",
            "userId": "114631778943688079875"
          }
        }
      },
      "cell_type": "code",
      "source": [
        "# fitting the model without data augmentation\n",
        "model.fit(X_train, y_train,\n",
        "          validation_data=[X_test_lb,y_test_lb],\n",
        "          callbacks = [plot_losses],\n",
        "          batch_size=500, \n",
        "          epochs=40, \n",
        "          verbose=1)\n",
        "\n"
      ],
      "execution_count": 79,
      "outputs": [
        {
          "output_type": "display_data",
          "data": {
            "image/png": "[encoded data removed]",
            "text/plain": [
              "<matplotlib.figure.Figure at 0x7f13afb8f7f0>"
            ]
          },
          "metadata": {
            "tags": []
          }
        },
        {
          "output_type": "stream",
          "text": [
            "Epoch 30/40\n",
            " 8000/28710 [=======>......................] - ETA: 41s - loss: 0.8973 - acc: 0.6635"
          ],
          "name": "stdout"
        },
        {
          "output_type": "error",
          "ename": "KeyboardInterrupt",
          "evalue": "ignored",
          "traceback": [
            "\u001b[0;31m---------------------------------------------------------------------------\u001b[0m",
            "\u001b[0;31mKeyboardInterrupt\u001b[0m                         Traceback (most recent call last)",
            "\u001b[0;32m<ipython-input-79-3fb0434187dd>\u001b[0m in \u001b[0;36m<module>\u001b[0;34m()\u001b[0m\n\u001b[1;32m      4\u001b[0m           \u001b[0mbatch_size\u001b[0m\u001b[0;34m=\u001b[0m\u001b[0;36m500\u001b[0m\u001b[0;34m,\u001b[0m\u001b[0;34m\u001b[0m\u001b[0m\n\u001b[1;32m      5\u001b[0m           \u001b[0mepochs\u001b[0m\u001b[0;34m=\u001b[0m\u001b[0;36m40\u001b[0m\u001b[0;34m,\u001b[0m\u001b[0;34m\u001b[0m\u001b[0m\n\u001b[0;32m----> 6\u001b[0;31m           verbose=1)\n\u001b[0m\u001b[1;32m      7\u001b[0m \u001b[0;34m\u001b[0m\u001b[0m\n",
            "\u001b[0;32m/usr/local/lib/python3.6/dist-packages/keras/models.py\u001b[0m in \u001b[0;36mfit\u001b[0;34m(self, x, y, batch_size, epochs, verbose, callbacks, validation_split, validation_data, shuffle, class_weight, sample_weight, initial_epoch, steps_per_epoch, validation_steps, **kwargs)\u001b[0m\n\u001b[1;32m   1000\u001b[0m                               \u001b[0minitial_epoch\u001b[0m\u001b[0;34m=\u001b[0m\u001b[0minitial_epoch\u001b[0m\u001b[0;34m,\u001b[0m\u001b[0;34m\u001b[0m\u001b[0m\n\u001b[1;32m   1001\u001b[0m                               \u001b[0msteps_per_epoch\u001b[0m\u001b[0;34m=\u001b[0m\u001b[0msteps_per_epoch\u001b[0m\u001b[0;34m,\u001b[0m\u001b[0;34m\u001b[0m\u001b[0m\n\u001b[0;32m-> 1002\u001b[0;31m                               validation_steps=validation_steps)\n\u001b[0m\u001b[1;32m   1003\u001b[0m \u001b[0;34m\u001b[0m\u001b[0m\n\u001b[1;32m   1004\u001b[0m     def evaluate(self, x=None, y=None,\n",
            "\u001b[0;32m/usr/local/lib/python3.6/dist-packages/keras/engine/training.py\u001b[0m in \u001b[0;36mfit\u001b[0;34m(self, x, y, batch_size, epochs, verbose, callbacks, validation_split, validation_data, shuffle, class_weight, sample_weight, initial_epoch, steps_per_epoch, validation_steps, **kwargs)\u001b[0m\n\u001b[1;32m   1703\u001b[0m                               \u001b[0minitial_epoch\u001b[0m\u001b[0;34m=\u001b[0m\u001b[0minitial_epoch\u001b[0m\u001b[0;34m,\u001b[0m\u001b[0;34m\u001b[0m\u001b[0m\n\u001b[1;32m   1704\u001b[0m                               \u001b[0msteps_per_epoch\u001b[0m\u001b[0;34m=\u001b[0m\u001b[0msteps_per_epoch\u001b[0m\u001b[0;34m,\u001b[0m\u001b[0;34m\u001b[0m\u001b[0m\n\u001b[0;32m-> 1705\u001b[0;31m                               validation_steps=validation_steps)\n\u001b[0m\u001b[1;32m   1706\u001b[0m \u001b[0;34m\u001b[0m\u001b[0m\n\u001b[1;32m   1707\u001b[0m     def evaluate(self, x=None, y=None,\n",
            "\u001b[0;32m/usr/local/lib/python3.6/dist-packages/keras/engine/training.py\u001b[0m in \u001b[0;36m_fit_loop\u001b[0;34m(self, f, ins, out_labels, batch_size, epochs, verbose, callbacks, val_f, val_ins, shuffle, callback_metrics, initial_epoch, steps_per_epoch, validation_steps)\u001b[0m\n\u001b[1;32m   1234\u001b[0m                         \u001b[0mins_batch\u001b[0m\u001b[0;34m[\u001b[0m\u001b[0mi\u001b[0m\u001b[0;34m]\u001b[0m \u001b[0;34m=\u001b[0m \u001b[0mins_batch\u001b[0m\u001b[0;34m[\u001b[0m\u001b[0mi\u001b[0m\u001b[0;34m]\u001b[0m\u001b[0;34m.\u001b[0m\u001b[0mtoarray\u001b[0m\u001b[0;34m(\u001b[0m\u001b[0;34m)\u001b[0m\u001b[0;34m\u001b[0m\u001b[0m\n\u001b[1;32m   1235\u001b[0m \u001b[0;34m\u001b[0m\u001b[0m\n\u001b[0;32m-> 1236\u001b[0;31m                     \u001b[0mouts\u001b[0m \u001b[0;34m=\u001b[0m \u001b[0mf\u001b[0m\u001b[0;34m(\u001b[0m\u001b[0mins_batch\u001b[0m\u001b[0;34m)\u001b[0m\u001b[0;34m\u001b[0m\u001b[0m\n\u001b[0m\u001b[1;32m   1237\u001b[0m                     \u001b[0;32mif\u001b[0m \u001b[0;32mnot\u001b[0m \u001b[0misinstance\u001b[0m\u001b[0;34m(\u001b[0m\u001b[0mouts\u001b[0m\u001b[0;34m,\u001b[0m \u001b[0mlist\u001b[0m\u001b[0;34m)\u001b[0m\u001b[0;34m:\u001b[0m\u001b[0;34m\u001b[0m\u001b[0m\n\u001b[1;32m   1238\u001b[0m                         \u001b[0mouts\u001b[0m \u001b[0;34m=\u001b[0m \u001b[0;34m[\u001b[0m\u001b[0mouts\u001b[0m\u001b[0;34m]\u001b[0m\u001b[0;34m\u001b[0m\u001b[0m\n",
            "\u001b[0;32m/usr/local/lib/python3.6/dist-packages/keras/backend/tensorflow_backend.py\u001b[0m in \u001b[0;36m__call__\u001b[0;34m(self, inputs)\u001b[0m\n\u001b[1;32m   2480\u001b[0m         \u001b[0msession\u001b[0m \u001b[0;34m=\u001b[0m \u001b[0mget_session\u001b[0m\u001b[0;34m(\u001b[0m\u001b[0;34m)\u001b[0m\u001b[0;34m\u001b[0m\u001b[0m\n\u001b[1;32m   2481\u001b[0m         updated = session.run(fetches=fetches, feed_dict=feed_dict,\n\u001b[0;32m-> 2482\u001b[0;31m                               **self.session_kwargs)\n\u001b[0m\u001b[1;32m   2483\u001b[0m         \u001b[0;32mreturn\u001b[0m \u001b[0mupdated\u001b[0m\u001b[0;34m[\u001b[0m\u001b[0;34m:\u001b[0m\u001b[0mlen\u001b[0m\u001b[0;34m(\u001b[0m\u001b[0mself\u001b[0m\u001b[0;34m.\u001b[0m\u001b[0moutputs\u001b[0m\u001b[0;34m)\u001b[0m\u001b[0;34m]\u001b[0m\u001b[0;34m\u001b[0m\u001b[0m\n\u001b[1;32m   2484\u001b[0m \u001b[0;34m\u001b[0m\u001b[0m\n",
            "\u001b[0;32m/usr/local/lib/python3.6/dist-packages/tensorflow/python/client/session.py\u001b[0m in \u001b[0;36mrun\u001b[0;34m(self, fetches, feed_dict, options, run_metadata)\u001b[0m\n\u001b[1;32m    898\u001b[0m     \u001b[0;32mtry\u001b[0m\u001b[0;34m:\u001b[0m\u001b[0;34m\u001b[0m\u001b[0m\n\u001b[1;32m    899\u001b[0m       result = self._run(None, fetches, feed_dict, options_ptr,\n\u001b[0;32m--> 900\u001b[0;31m                          run_metadata_ptr)\n\u001b[0m\u001b[1;32m    901\u001b[0m       \u001b[0;32mif\u001b[0m \u001b[0mrun_metadata\u001b[0m\u001b[0;34m:\u001b[0m\u001b[0;34m\u001b[0m\u001b[0m\n\u001b[1;32m    902\u001b[0m         \u001b[0mproto_data\u001b[0m \u001b[0;34m=\u001b[0m \u001b[0mtf_session\u001b[0m\u001b[0;34m.\u001b[0m\u001b[0mTF_GetBuffer\u001b[0m\u001b[0;34m(\u001b[0m\u001b[0mrun_metadata_ptr\u001b[0m\u001b[0;34m)\u001b[0m\u001b[0;34m\u001b[0m\u001b[0m\n",
            "\u001b[0;32m/usr/local/lib/python3.6/dist-packages/tensorflow/python/client/session.py\u001b[0m in \u001b[0;36m_run\u001b[0;34m(self, handle, fetches, feed_dict, options, run_metadata)\u001b[0m\n\u001b[1;32m   1133\u001b[0m     \u001b[0;32mif\u001b[0m \u001b[0mfinal_fetches\u001b[0m \u001b[0;32mor\u001b[0m \u001b[0mfinal_targets\u001b[0m \u001b[0;32mor\u001b[0m \u001b[0;34m(\u001b[0m\u001b[0mhandle\u001b[0m \u001b[0;32mand\u001b[0m \u001b[0mfeed_dict_tensor\u001b[0m\u001b[0;34m)\u001b[0m\u001b[0;34m:\u001b[0m\u001b[0;34m\u001b[0m\u001b[0m\n\u001b[1;32m   1134\u001b[0m       results = self._do_run(handle, final_targets, final_fetches,\n\u001b[0;32m-> 1135\u001b[0;31m                              feed_dict_tensor, options, run_metadata)\n\u001b[0m\u001b[1;32m   1136\u001b[0m     \u001b[0;32melse\u001b[0m\u001b[0;34m:\u001b[0m\u001b[0;34m\u001b[0m\u001b[0m\n\u001b[1;32m   1137\u001b[0m       \u001b[0mresults\u001b[0m \u001b[0;34m=\u001b[0m \u001b[0;34m[\u001b[0m\u001b[0;34m]\u001b[0m\u001b[0;34m\u001b[0m\u001b[0m\n",
            "\u001b[0;32m/usr/local/lib/python3.6/dist-packages/tensorflow/python/client/session.py\u001b[0m in \u001b[0;36m_do_run\u001b[0;34m(self, handle, target_list, fetch_list, feed_dict, options, run_metadata)\u001b[0m\n\u001b[1;32m   1314\u001b[0m     \u001b[0;32mif\u001b[0m \u001b[0mhandle\u001b[0m \u001b[0;32mis\u001b[0m \u001b[0;32mNone\u001b[0m\u001b[0;34m:\u001b[0m\u001b[0;34m\u001b[0m\u001b[0m\n\u001b[1;32m   1315\u001b[0m       return self._do_call(_run_fn, feeds, fetches, targets, options,\n\u001b[0;32m-> 1316\u001b[0;31m                            run_metadata)\n\u001b[0m\u001b[1;32m   1317\u001b[0m     \u001b[0;32melse\u001b[0m\u001b[0;34m:\u001b[0m\u001b[0;34m\u001b[0m\u001b[0m\n\u001b[1;32m   1318\u001b[0m       \u001b[0;32mreturn\u001b[0m \u001b[0mself\u001b[0m\u001b[0;34m.\u001b[0m\u001b[0m_do_call\u001b[0m\u001b[0;34m(\u001b[0m\u001b[0m_prun_fn\u001b[0m\u001b[0;34m,\u001b[0m \u001b[0mhandle\u001b[0m\u001b[0;34m,\u001b[0m \u001b[0mfeeds\u001b[0m\u001b[0;34m,\u001b[0m \u001b[0mfetches\u001b[0m\u001b[0;34m)\u001b[0m\u001b[0;34m\u001b[0m\u001b[0m\n",
            "\u001b[0;32m/usr/local/lib/python3.6/dist-packages/tensorflow/python/client/session.py\u001b[0m in \u001b[0;36m_do_call\u001b[0;34m(self, fn, *args)\u001b[0m\n\u001b[1;32m   1320\u001b[0m   \u001b[0;32mdef\u001b[0m \u001b[0m_do_call\u001b[0m\u001b[0;34m(\u001b[0m\u001b[0mself\u001b[0m\u001b[0;34m,\u001b[0m \u001b[0mfn\u001b[0m\u001b[0;34m,\u001b[0m \u001b[0;34m*\u001b[0m\u001b[0margs\u001b[0m\u001b[0;34m)\u001b[0m\u001b[0;34m:\u001b[0m\u001b[0;34m\u001b[0m\u001b[0m\n\u001b[1;32m   1321\u001b[0m     \u001b[0;32mtry\u001b[0m\u001b[0;34m:\u001b[0m\u001b[0;34m\u001b[0m\u001b[0m\n\u001b[0;32m-> 1322\u001b[0;31m       \u001b[0;32mreturn\u001b[0m \u001b[0mfn\u001b[0m\u001b[0;34m(\u001b[0m\u001b[0;34m*\u001b[0m\u001b[0margs\u001b[0m\u001b[0;34m)\u001b[0m\u001b[0;34m\u001b[0m\u001b[0m\n\u001b[0m\u001b[1;32m   1323\u001b[0m     \u001b[0;32mexcept\u001b[0m \u001b[0merrors\u001b[0m\u001b[0;34m.\u001b[0m\u001b[0mOpError\u001b[0m \u001b[0;32mas\u001b[0m \u001b[0me\u001b[0m\u001b[0;34m:\u001b[0m\u001b[0;34m\u001b[0m\u001b[0m\n\u001b[1;32m   1324\u001b[0m       \u001b[0mmessage\u001b[0m \u001b[0;34m=\u001b[0m \u001b[0mcompat\u001b[0m\u001b[0;34m.\u001b[0m\u001b[0mas_text\u001b[0m\u001b[0;34m(\u001b[0m\u001b[0me\u001b[0m\u001b[0;34m.\u001b[0m\u001b[0mmessage\u001b[0m\u001b[0;34m)\u001b[0m\u001b[0;34m\u001b[0m\u001b[0m\n",
            "\u001b[0;32m/usr/local/lib/python3.6/dist-packages/tensorflow/python/client/session.py\u001b[0m in \u001b[0;36m_run_fn\u001b[0;34m(feed_dict, fetch_list, target_list, options, run_metadata)\u001b[0m\n\u001b[1;32m   1305\u001b[0m       \u001b[0mself\u001b[0m\u001b[0;34m.\u001b[0m\u001b[0m_extend_graph\u001b[0m\u001b[0;34m(\u001b[0m\u001b[0;34m)\u001b[0m\u001b[0;34m\u001b[0m\u001b[0m\n\u001b[1;32m   1306\u001b[0m       return self._call_tf_sessionrun(\n\u001b[0;32m-> 1307\u001b[0;31m           options, feed_dict, fetch_list, target_list, run_metadata)\n\u001b[0m\u001b[1;32m   1308\u001b[0m \u001b[0;34m\u001b[0m\u001b[0m\n\u001b[1;32m   1309\u001b[0m     \u001b[0;32mdef\u001b[0m \u001b[0m_prun_fn\u001b[0m\u001b[0;34m(\u001b[0m\u001b[0mhandle\u001b[0m\u001b[0;34m,\u001b[0m \u001b[0mfeed_dict\u001b[0m\u001b[0;34m,\u001b[0m \u001b[0mfetch_list\u001b[0m\u001b[0;34m)\u001b[0m\u001b[0;34m:\u001b[0m\u001b[0;34m\u001b[0m\u001b[0m\n",
            "\u001b[0;32m/usr/local/lib/python3.6/dist-packages/tensorflow/python/client/session.py\u001b[0m in \u001b[0;36m_call_tf_sessionrun\u001b[0;34m(self, options, feed_dict, fetch_list, target_list, run_metadata)\u001b[0m\n\u001b[1;32m   1407\u001b[0m       return tf_session.TF_SessionRun_wrapper(\n\u001b[1;32m   1408\u001b[0m           \u001b[0mself\u001b[0m\u001b[0;34m.\u001b[0m\u001b[0m_session\u001b[0m\u001b[0;34m,\u001b[0m \u001b[0moptions\u001b[0m\u001b[0;34m,\u001b[0m \u001b[0mfeed_dict\u001b[0m\u001b[0;34m,\u001b[0m \u001b[0mfetch_list\u001b[0m\u001b[0;34m,\u001b[0m \u001b[0mtarget_list\u001b[0m\u001b[0;34m,\u001b[0m\u001b[0;34m\u001b[0m\u001b[0m\n\u001b[0;32m-> 1409\u001b[0;31m           run_metadata)\n\u001b[0m\u001b[1;32m   1410\u001b[0m     \u001b[0;32melse\u001b[0m\u001b[0;34m:\u001b[0m\u001b[0;34m\u001b[0m\u001b[0m\n\u001b[1;32m   1411\u001b[0m       \u001b[0;32mwith\u001b[0m \u001b[0merrors\u001b[0m\u001b[0;34m.\u001b[0m\u001b[0mraise_exception_on_not_ok_status\u001b[0m\u001b[0;34m(\u001b[0m\u001b[0;34m)\u001b[0m \u001b[0;32mas\u001b[0m \u001b[0mstatus\u001b[0m\u001b[0;34m:\u001b[0m\u001b[0;34m\u001b[0m\u001b[0m\n",
            "\u001b[0;31mKeyboardInterrupt\u001b[0m: "
          ]
        }
      ]
    },
    {
      "metadata": {
        "id": "aSxmgVvBFzQT",
        "colab_type": "code",
        "colab": {
          "autoexec": {
            "startup": false,
            "wait_interval": 0
          },
          "base_uri": "https://localhost:8080/",
          "height": 1017
        },
        "outputId": "7c084596-f22b-4868-a219-951ee40ae1db",
        "executionInfo": {
          "status": "ok",
          "timestamp": 1527099482533,
          "user_tz": -330,
          "elapsed": 825,
          "user": {
            "displayName": "Aditya Singh",
            "photoUrl": "//lh6.googleusercontent.com/-xEQtrPr4tTI/AAAAAAAAAAI/AAAAAAAAHbA/2VsDdjbtYDE/s50-c-k-no/photo.jpg",
            "userId": "114631778943688079875"
          }
        }
      },
      "cell_type": "code",
      "source": [
        "model.summary()"
      ],
      "execution_count": 15,
      "outputs": [
        {
          "output_type": "stream",
          "text": [
            "_________________________________________________________________\n",
            "Layer (type)                 Output Shape              Param #   \n",
            "=================================================================\n",
            "conv2d_4 (Conv2D)            (None, 48, 48, 512)       2560      \n",
            "_________________________________________________________________\n",
            "average_pooling2d_4 (Average (None, 24, 24, 512)       0         \n",
            "_________________________________________________________________\n",
            "dropout_7 (Dropout)          (None, 24, 24, 512)       0         \n",
            "_________________________________________________________________\n",
            "batch_normalization_7 (Batch (None, 24, 24, 512)       2048      \n",
            "_________________________________________________________________\n",
            "conv2d_5 (Conv2D)            (None, 24, 24, 256)       524544    \n",
            "_________________________________________________________________\n",
            "average_pooling2d_5 (Average (None, 12, 12, 256)       0         \n",
            "_________________________________________________________________\n",
            "dropout_8 (Dropout)          (None, 12, 12, 256)       0         \n",
            "_________________________________________________________________\n",
            "batch_normalization_8 (Batch (None, 12, 12, 256)       1024      \n",
            "_________________________________________________________________\n",
            "conv2d_6 (Conv2D)            (None, 12, 12, 128)       131200    \n",
            "_________________________________________________________________\n",
            "average_pooling2d_6 (Average (None, 6, 6, 128)         0         \n",
            "_________________________________________________________________\n",
            "dropout_9 (Dropout)          (None, 6, 6, 128)         0         \n",
            "_________________________________________________________________\n",
            "batch_normalization_9 (Batch (None, 6, 6, 128)         512       \n",
            "_________________________________________________________________\n",
            "flatten_2 (Flatten)          (None, 4608)              0         \n",
            "_________________________________________________________________\n",
            "dense_5 (Dense)              (None, 512)               2359808   \n",
            "_________________________________________________________________\n",
            "dropout_10 (Dropout)         (None, 512)               0         \n",
            "_________________________________________________________________\n",
            "batch_normalization_10 (Batc (None, 512)               2048      \n",
            "_________________________________________________________________\n",
            "dense_6 (Dense)              (None, 256)               131328    \n",
            "_________________________________________________________________\n",
            "dropout_11 (Dropout)         (None, 256)               0         \n",
            "_________________________________________________________________\n",
            "batch_normalization_11 (Batc (None, 256)               1024      \n",
            "_________________________________________________________________\n",
            "dense_7 (Dense)              (None, 128)               32896     \n",
            "_________________________________________________________________\n",
            "dropout_12 (Dropout)         (None, 128)               0         \n",
            "_________________________________________________________________\n",
            "batch_normalization_12 (Batc (None, 128)               512       \n",
            "_________________________________________________________________\n",
            "dense_8 (Dense)              (None, 7)                 903       \n",
            "=================================================================\n",
            "Total params: 3,190,407\n",
            "Trainable params: 3,186,823\n",
            "Non-trainable params: 3,584\n",
            "_________________________________________________________________\n"
          ],
          "name": "stdout"
        }
      ]
    },
    {
      "metadata": {
        "id": "WhOWQFxpv8Ip",
        "colab_type": "code",
        "colab": {
          "autoexec": {
            "startup": false,
            "wait_interval": 0
          },
          "base_uri": "https://localhost:8080/",
          "height": 36
        },
        "outputId": "a5c54142-382e-423d-810c-04611ec93962",
        "executionInfo": {
          "status": "ok",
          "timestamp": 1527145062964,
          "user_tz": -330,
          "elapsed": 7845,
          "user": {
            "displayName": "Aditya Singh",
            "photoUrl": "//lh6.googleusercontent.com/-xEQtrPr4tTI/AAAAAAAAAAI/AAAAAAAAHbA/2VsDdjbtYDE/s50-c-k-no/photo.jpg",
            "userId": "114631778943688079875"
          }
        }
      },
      "cell_type": "code",
      "source": [
        "y_pred = model.predict(X_test_lb,verbose = 1)"
      ],
      "execution_count": 80,
      "outputs": [
        {
          "output_type": "stream",
          "text": [
            "7176/7176 [==============================] - 7s 973us/step\n"
          ],
          "name": "stdout"
        }
      ]
    },
    {
      "metadata": {
        "id": "J0EtWj0hygiN",
        "colab_type": "code",
        "colab": {
          "autoexec": {
            "startup": false,
            "wait_interval": 0
          }
        }
      },
      "cell_type": "code",
      "source": [
        "y_pred = (np.argmax(y_pred,axis = 1))"
      ],
      "execution_count": 0,
      "outputs": []
    },
    {
      "metadata": {
        "id": "inIsTSafyhNI",
        "colab_type": "code",
        "colab": {
          "autoexec": {
            "startup": false,
            "wait_interval": 0
          }
        }
      },
      "cell_type": "code",
      "source": [
        "y_test = (np.argmax(y_test_lb,axis = 1))"
      ],
      "execution_count": 0,
      "outputs": []
    },
    {
      "metadata": {
        "id": "T0MvcPh1yjeF",
        "colab_type": "code",
        "colab": {
          "autoexec": {
            "startup": false,
            "wait_interval": 0
          },
          "base_uri": "https://localhost:8080/",
          "height": 1115
        },
        "outputId": "9d8c44bc-84ea-49e4-9b8c-307b6cebdd1a",
        "executionInfo": {
          "status": "ok",
          "timestamp": 1527145068518,
          "user_tz": -330,
          "elapsed": 2087,
          "user": {
            "displayName": "Aditya Singh",
            "photoUrl": "//lh6.googleusercontent.com/-xEQtrPr4tTI/AAAAAAAAAAI/AAAAAAAAHbA/2VsDdjbtYDE/s50-c-k-no/photo.jpg",
            "userId": "114631778943688079875"
          }
        }
      },
      "cell_type": "code",
      "source": [
        "def plot_confusion_matrix(cm, classes,\n",
        "                          normalize=False,\n",
        "                          title='Confusion matrix',\n",
        "                          cmap=plt.cm.Blues):\n",
        "    \"\"\"\n",
        "    This function prints and plots the confusion matrix.\n",
        "    Normalization can be applied by setting `normalize=True`.\n",
        "    \"\"\"\n",
        "    if normalize:\n",
        "        cm = cm.astype('float') / cm.sum(axis=1)[:, np.newaxis]\n",
        "        print(\"Normalized confusion matrix\")\n",
        "    else:\n",
        "        print('Confusion matrix, without normalization')\n",
        "\n",
        "    print(cm)\n",
        "\n",
        "    plt.imshow(cm, interpolation='nearest', cmap=cmap)\n",
        "    plt.title(title)\n",
        "    plt.colorbar()\n",
        "    tick_marks = np.arange(len(classes))\n",
        "    plt.xticks(tick_marks, classes, rotation=45)\n",
        "    plt.yticks(tick_marks, classes)\n",
        "\n",
        "    fmt = '.2f' if normalize else 'd'\n",
        "    thresh = cm.max() / 2.\n",
        "    for i, j in itertools.product(range(cm.shape[0]), range(cm.shape[1])):\n",
        "        plt.text(j, i, format(cm[i, j], fmt),\n",
        "                 horizontalalignment=\"center\",\n",
        "                 color=\"white\" if cm[i, j] > thresh else \"black\")\n",
        "\n",
        "    plt.tight_layout()\n",
        "    plt.ylabel('True label')\n",
        "    plt.xlabel('Predicted label')\n",
        "\n",
        "# Compute confusion matrix\n",
        "cnf_matrix = confusion_matrix(y_test, y_pred)\n",
        "np.set_printoptions(precision=2)\n",
        "\n",
        "# Plot non-normalized confusion matrix\n",
        "plt.figure()\n",
        "plot_confusion_matrix(cnf_matrix, classes=['0','1','2','3','4','5','6'],\n",
        "                      title='Confusion matrix, without normalization')\n",
        "\n",
        "# Plot normalized confusion matrix\n",
        "plt.figure()\n",
        "plot_confusion_matrix(cnf_matrix, classes=['0','1','2','3','4','5','6'], normalize=True,\n",
        "                      title='Normalized confusion matrix')\n",
        "\n",
        "plt.show()\n"
      ],
      "execution_count": 83,
      "outputs": [
        {
          "output_type": "stream",
          "text": [
            "Confusion matrix, without normalization\n",
            "[[ 510    3   57   75  172   21  119]\n",
            " [  36   44    2    5   14    4    5]\n",
            " [ 135    2  324   74  252  107  130]\n",
            " [  34    0   25 1528   73   28   86]\n",
            " [ 144    0   89   98  663   10  243]\n",
            " [  21    1   73   61   27  620   28]\n",
            " [  67    1   51  108  221   16  769]]\n",
            "Normalized confusion matrix\n",
            "[[5.33e-01 3.13e-03 5.96e-02 7.84e-02 1.80e-01 2.19e-02 1.24e-01]\n",
            " [3.27e-01 4.00e-01 1.82e-02 4.55e-02 1.27e-01 3.64e-02 4.55e-02]\n",
            " [1.32e-01 1.95e-03 3.16e-01 7.23e-02 2.46e-01 1.04e-01 1.27e-01]\n",
            " [1.92e-02 0.00e+00 1.41e-02 8.61e-01 4.11e-02 1.58e-02 4.85e-02]\n",
            " [1.15e-01 0.00e+00 7.14e-02 7.86e-02 5.32e-01 8.02e-03 1.95e-01]\n",
            " [2.53e-02 1.20e-03 8.78e-02 7.34e-02 3.25e-02 7.46e-01 3.37e-02]\n",
            " [5.43e-02 8.11e-04 4.14e-02 8.76e-02 1.79e-01 1.30e-02 6.24e-01]]\n"
          ],
          "name": "stdout"
        },
        {
          "output_type": "display_data",
          "data": {
            "image/png": "[encoded data removed]",
            "text/plain": [
              "<matplotlib.figure.Figure at 0x7f13ae5b8fd0>"
            ]
          },
          "metadata": {
            "tags": []
          }
        },
        {
          "output_type": "display_data",
          "data": {
            "image/png": "[encoded data removed]",
            "text/plain": [
              "<matplotlib.figure.Figure at 0x7f13ae5b86d8>"
            ]
          },
          "metadata": {
            "tags": []
          }
        }
      ]
    },
    {
      "metadata": {
        "id": "RpOW3ZzmylmB",
        "colab_type": "code",
        "colab": {
          "autoexec": {
            "startup": false,
            "wait_interval": 0
          }
        }
      },
      "cell_type": "code",
      "source": [
        "# to check how we scored on the public and private leaderboard\n",
        "# outputs are given on the data file \n",
        "\n",
        "\n",
        "# reading the data file\n",
        "data =pd.read_csv('drive/Colab Notebooks/data.csv')\n",
        "# training data input\n",
        "X = data['pixels']\n",
        "\n",
        "# training data target output\n",
        "y = data['emotion']\n",
        "# testing data\n",
        "y_test_lb = y[28711:35888]"
      ],
      "execution_count": 0,
      "outputs": []
    },
    {
      "metadata": {
        "id": "ZSKMFL883Nhi",
        "colab_type": "code",
        "colab": {
          "autoexec": {
            "startup": false,
            "wait_interval": 0
          },
          "base_uri": "https://localhost:8080/",
          "height": 36
        },
        "outputId": "b17b6825-fdc9-4f0b-d1ae-ccee42182d68",
        "executionInfo": {
          "status": "ok",
          "timestamp": 1527145146671,
          "user_tz": -330,
          "elapsed": 23486,
          "user": {
            "displayName": "Aditya Singh",
            "photoUrl": "//lh6.googleusercontent.com/-xEQtrPr4tTI/AAAAAAAAAAI/AAAAAAAAHbA/2VsDdjbtYDE/s50-c-k-no/photo.jpg",
            "userId": "114631778943688079875"
          }
        }
      },
      "cell_type": "code",
      "source": [
        "new_x = []\n",
        "i = 28711\n",
        "\n",
        "while i<35887:\n",
        "    k = 0\n",
        "    insert = [0] * 2304\n",
        "    val = X[i]\n",
        "    val = val.split(' ')\n",
        "    count = 0\n",
        "    while k<2304:\n",
        "        insert[k] = (int)(val[k])\n",
        "        # to make input between 0 and 1\n",
        "        count = count + insert[k]\n",
        "        k = k +1\n",
        "    count = count /(48*48)\n",
        "    k = 0\n",
        "    while k<2304:\n",
        "        insert[k] = (int)(val[k])\n",
        "        # to make input between 0 and 1\n",
        "        insert[k] = insert[k] - count\n",
        "        k = k +1\n",
        "    \n",
        "    new_x.append(insert)\n",
        "    i = i +1\n",
        "new_x = np.asarray(new_x)\n",
        "print('Done')"
      ],
      "execution_count": 85,
      "outputs": [
        {
          "output_type": "stream",
          "text": [
            "Done\n"
          ],
          "name": "stdout"
        }
      ]
    },
    {
      "metadata": {
        "id": "16_OAkNF3QTW",
        "colab_type": "code",
        "colab": {
          "autoexec": {
            "startup": false,
            "wait_interval": 0
          }
        }
      },
      "cell_type": "code",
      "source": [
        "# forming the leaderboard test input\n",
        "X_test_lb = np.reshape(X_test_lb , (7176,48,48,1))"
      ],
      "execution_count": 0,
      "outputs": []
    },
    {
      "metadata": {
        "id": "wonEIHy83UIT",
        "colab_type": "code",
        "colab": {
          "autoexec": {
            "startup": false,
            "wait_interval": 0
          },
          "base_uri": "https://localhost:8080/",
          "height": 36
        },
        "outputId": "9bc740e8-fc03-41d8-d2c5-c992ebcedd5d",
        "executionInfo": {
          "status": "ok",
          "timestamp": 1527145196326,
          "user_tz": -330,
          "elapsed": 47119,
          "user": {
            "displayName": "Aditya Singh",
            "photoUrl": "//lh6.googleusercontent.com/-xEQtrPr4tTI/AAAAAAAAAAI/AAAAAAAAHbA/2VsDdjbtYDE/s50-c-k-no/photo.jpg",
            "userId": "114631778943688079875"
          }
        }
      },
      "cell_type": "code",
      "source": [
        "# getting the input\n",
        "output = model.predict(X_test_lb, verbose = 1,batch_size = 1)"
      ],
      "execution_count": 87,
      "outputs": [
        {
          "output_type": "stream",
          "text": [
            "7176/7176 [==============================] - 46s 6ms/step\n"
          ],
          "name": "stdout"
        }
      ]
    },
    {
      "metadata": {
        "id": "9jiZYf3A3WrT",
        "colab_type": "code",
        "colab": {
          "autoexec": {
            "startup": false,
            "wait_interval": 0
          },
          "base_uri": "https://localhost:8080/",
          "height": 149
        },
        "outputId": "89bb5810-f2ee-4918-8a7a-2b3d30bee902",
        "executionInfo": {
          "status": "ok",
          "timestamp": 1527145197840,
          "user_tz": -330,
          "elapsed": 1308,
          "user": {
            "displayName": "Aditya Singh",
            "photoUrl": "//lh6.googleusercontent.com/-xEQtrPr4tTI/AAAAAAAAAAI/AAAAAAAAHbA/2VsDdjbtYDE/s50-c-k-no/photo.jpg",
            "userId": "114631778943688079875"
          }
        }
      },
      "cell_type": "code",
      "source": [
        "print(output)\n",
        "output = np.argmax(output, axis = 1)"
      ],
      "execution_count": 88,
      "outputs": [
        {
          "output_type": "stream",
          "text": [
            "[[7.01e-01 2.05e-02 6.05e-02 ... 1.76e-01 2.47e-03 3.96e-02]\n",
            " [1.31e-01 6.38e-02 1.66e-01 ... 3.23e-01 8.07e-03 2.84e-01]\n",
            " [3.43e-04 3.51e-05 2.67e-04 ... 3.07e-04 3.02e-04 1.40e-03]\n",
            " ...\n",
            " [1.94e-02 1.32e-05 4.33e-02 ... 4.65e-01 1.03e-03 4.44e-01]\n",
            " [1.35e-01 2.74e-03 3.22e-02 ... 2.83e-01 2.86e-04 1.29e-01]\n",
            " [8.62e-02 6.89e-03 4.30e-01 ... 4.15e-01 4.63e-03 5.36e-02]]\n"
          ],
          "name": "stdout"
        }
      ]
    },
    {
      "metadata": {
        "id": "wAhbl_Mx3Zei",
        "colab_type": "code",
        "colab": {
          "autoexec": {
            "startup": false,
            "wait_interval": 0
          }
        }
      },
      "cell_type": "code",
      "source": [
        "# checking how many predictions we have made correct\n",
        "i = 0\n",
        "count = 0\n",
        "while i<7176:\n",
        "    if output[i] == y_test_lb[i+28711]:\n",
        "        count = count + 1\n",
        "    else:\n",
        "        count = count + 0\n",
        "    i = i +1 \n",
        "\n",
        "count = count /7176"
      ],
      "execution_count": 0,
      "outputs": []
    },
    {
      "metadata": {
        "id": "Gb-wFwmr3dfq",
        "colab_type": "code",
        "colab": {
          "autoexec": {
            "startup": false,
            "wait_interval": 0
          },
          "base_uri": "https://localhost:8080/",
          "height": 36
        },
        "outputId": "16777d98-be7f-4769-f464-b6e9d97cb8ac",
        "executionInfo": {
          "status": "ok",
          "timestamp": 1527145200328,
          "user_tz": -330,
          "elapsed": 775,
          "user": {
            "displayName": "Aditya Singh",
            "photoUrl": "//lh6.googleusercontent.com/-xEQtrPr4tTI/AAAAAAAAAAI/AAAAAAAAHbA/2VsDdjbtYDE/s50-c-k-no/photo.jpg",
            "userId": "114631778943688079875"
          }
        }
      },
      "cell_type": "code",
      "source": [
        "print(count)"
      ],
      "execution_count": 90,
      "outputs": [
        {
          "output_type": "stream",
          "text": [
            "0.6212374581939799\n"
          ],
          "name": "stdout"
        }
      ]
    },
    {
      "metadata": {
        "id": "2l5hssmuzV-I",
        "colab_type": "code",
        "colab": {
          "autoexec": {
            "startup": false,
            "wait_interval": 0
          }
        }
      },
      "cell_type": "code",
      "source": [
        "model.save('drive/Colab Notebooks/new_model.h5')"
      ],
      "execution_count": 0,
      "outputs": []
    },
    {
      "metadata": {
        "id": "-2MkLG028tLT",
        "colab_type": "code",
        "colab": {
          "autoexec": {
            "startup": false,
            "wait_interval": 0
          },
          "base_uri": "https://localhost:8080/",
          "height": 55
        },
        "outputId": "1b0e45b7-18e9-4ef4-ba8f-0900ba4f245c",
        "executionInfo": {
          "status": "ok",
          "timestamp": 1527146749863,
          "user_tz": -330,
          "elapsed": 1345,
          "user": {
            "displayName": "Aditya Singh",
            "photoUrl": "//lh6.googleusercontent.com/-xEQtrPr4tTI/AAAAAAAAAAI/AAAAAAAAHbA/2VsDdjbtYDE/s50-c-k-no/photo.jpg",
            "userId": "114631778943688079875"
          }
        }
      },
      "cell_type": "code",
      "source": [
        "img = cv2.imread('drive/Colab Notebooks/happy.jpg',0)\n",
        "img = cv2.resize(img,(48,48))\n",
        "\n",
        "i =0\n",
        "j= 0 \n",
        "count = 0\n",
        "\n",
        "while i<48:\n",
        "  while j<48:\n",
        "    count = count + img[i][j]\n",
        "    j = j +1\n",
        "  i = i +1\n",
        "count = count /(48*48)\n",
        "\n",
        "i =0 \n",
        "j = 0\n",
        "\n",
        "print(img[0][1])\n",
        "while i<48:\n",
        "  while j<48:\n",
        "    img[i][j] = img[i][j] - count\n",
        "    \n",
        "    j = j +1\n",
        "  i = i +1\n",
        "print(img[0][1])\n",
        "img = np.reshape(img, (1,48,48,1))"
      ],
      "execution_count": 123,
      "outputs": [
        {
          "output_type": "stream",
          "text": [
            "248\n",
            "243\n"
          ],
          "name": "stdout"
        }
      ]
    },
    {
      "metadata": {
        "id": "NSYvU5xk_DJi",
        "colab_type": "code",
        "colab": {
          "autoexec": {
            "startup": false,
            "wait_interval": 0
          },
          "base_uri": "https://localhost:8080/",
          "height": 36
        },
        "outputId": "26fa0eac-db46-41e6-ff6c-8eac7054556d",
        "executionInfo": {
          "status": "ok",
          "timestamp": 1527146763046,
          "user_tz": -330,
          "elapsed": 1623,
          "user": {
            "displayName": "Aditya Singh",
            "photoUrl": "//lh6.googleusercontent.com/-xEQtrPr4tTI/AAAAAAAAAAI/AAAAAAAAHbA/2VsDdjbtYDE/s50-c-k-no/photo.jpg",
            "userId": "114631778943688079875"
          }
        }
      },
      "cell_type": "code",
      "source": [
        "output = model.predict(img)\n",
        "print(output)"
      ],
      "execution_count": 124,
      "outputs": [
        {
          "output_type": "stream",
          "text": [
            "[[0.11 0.01 0.08 0.48 0.21 0.01 0.11]]\n"
          ],
          "name": "stdout"
        }
      ]
    },
    {
      "metadata": {
        "id": "N7Bzj2C-_Jyy",
        "colab_type": "code",
        "colab": {
          "autoexec": {
            "startup": false,
            "wait_interval": 0
          },
          "base_uri": "https://localhost:8080/",
          "height": 36
        },
        "outputId": "021b2a08-b15f-43ce-faff-cc7c1b19bc67",
        "executionInfo": {
          "status": "ok",
          "timestamp": 1527146764302,
          "user_tz": -330,
          "elapsed": 809,
          "user": {
            "displayName": "Aditya Singh",
            "photoUrl": "//lh6.googleusercontent.com/-xEQtrPr4tTI/AAAAAAAAAAI/AAAAAAAAHbA/2VsDdjbtYDE/s50-c-k-no/photo.jpg",
            "userId": "114631778943688079875"
          }
        }
      },
      "cell_type": "code",
      "source": [
        "print(np.argmax(output,axis = 1))"
      ],
      "execution_count": 125,
      "outputs": [
        {
          "output_type": "stream",
          "text": [
            "[3]\n"
          ],
          "name": "stdout"
        }
      ]
    },
    {
      "metadata": {
        "id": "TTjl6Q8O_bCX",
        "colab_type": "code",
        "colab": {
          "autoexec": {
            "startup": false,
            "wait_interval": 0
          },
          "base_uri": "https://localhost:8080/",
          "height": 55
        },
        "outputId": "cd03b275-ecb9-4dc4-d97d-1008680101e7",
        "executionInfo": {
          "status": "ok",
          "timestamp": 1527146785660,
          "user_tz": -330,
          "elapsed": 1232,
          "user": {
            "displayName": "Aditya Singh",
            "photoUrl": "//lh6.googleusercontent.com/-xEQtrPr4tTI/AAAAAAAAAAI/AAAAAAAAHbA/2VsDdjbtYDE/s50-c-k-no/photo.jpg",
            "userId": "114631778943688079875"
          }
        }
      },
      "cell_type": "code",
      "source": [
        "img = cv2.imread('drive/Colab Notebooks/surprise.jpg',0)\n",
        "img = cv2.resize(img,(48,48))\n",
        "i =0\n",
        "j= 0 \n",
        "count = 0\n",
        "\n",
        "while i<48:\n",
        "  while j<48:\n",
        "    count = count + img[i][j]\n",
        "    j = j +1\n",
        "  i = i +1\n",
        "count = count /(48*48)\n",
        "\n",
        "i =0 \n",
        "j = 0\n",
        "\n",
        "print(img[0][1])\n",
        "while i<48:\n",
        "  while j<48:\n",
        "    img[i][j] = img[i][j] - count\n",
        "    \n",
        "    j = j +1\n",
        "  i = i +1\n",
        "print(img[0][1])\n",
        "img = np.reshape(img, (1,48,48,1))\n",
        "img = np.reshape(img, (1,48,48,1))"
      ],
      "execution_count": 126,
      "outputs": [
        {
          "output_type": "stream",
          "text": [
            "255\n",
            "249\n"
          ],
          "name": "stdout"
        }
      ]
    },
    {
      "metadata": {
        "id": "dXJIJda1AcwL",
        "colab_type": "code",
        "colab": {
          "autoexec": {
            "startup": false,
            "wait_interval": 0
          },
          "base_uri": "https://localhost:8080/",
          "height": 36
        },
        "outputId": "aa3efbb4-5f54-4aa1-a4d5-cbaae81f2472",
        "executionInfo": {
          "status": "ok",
          "timestamp": 1527146787325,
          "user_tz": -330,
          "elapsed": 1319,
          "user": {
            "displayName": "Aditya Singh",
            "photoUrl": "//lh6.googleusercontent.com/-xEQtrPr4tTI/AAAAAAAAAAI/AAAAAAAAHbA/2VsDdjbtYDE/s50-c-k-no/photo.jpg",
            "userId": "114631778943688079875"
          }
        }
      },
      "cell_type": "code",
      "source": [
        "output = model.predict(img)\n",
        "print(output)"
      ],
      "execution_count": 127,
      "outputs": [
        {
          "output_type": "stream",
          "text": [
            "[[0.03 0.01 0.26 0.03 0.45 0.03 0.2 ]]\n"
          ],
          "name": "stdout"
        }
      ]
    },
    {
      "metadata": {
        "id": "EjRgcBNtAeUi",
        "colab_type": "code",
        "colab": {
          "autoexec": {
            "startup": false,
            "wait_interval": 0
          },
          "base_uri": "https://localhost:8080/",
          "height": 36
        },
        "outputId": "81bca2df-9732-486f-c788-116624d7c509",
        "executionInfo": {
          "status": "ok",
          "timestamp": 1527146789411,
          "user_tz": -330,
          "elapsed": 941,
          "user": {
            "displayName": "Aditya Singh",
            "photoUrl": "//lh6.googleusercontent.com/-xEQtrPr4tTI/AAAAAAAAAAI/AAAAAAAAHbA/2VsDdjbtYDE/s50-c-k-no/photo.jpg",
            "userId": "114631778943688079875"
          }
        }
      },
      "cell_type": "code",
      "source": [
        "print(np.argmax(output,axis = 1))"
      ],
      "execution_count": 128,
      "outputs": [
        {
          "output_type": "stream",
          "text": [
            "[4]\n"
          ],
          "name": "stdout"
        }
      ]
    },
    {
      "metadata": {
        "id": "emKlU5wpAf2l",
        "colab_type": "code",
        "colab": {
          "autoexec": {
            "startup": false,
            "wait_interval": 0
          },
          "base_uri": "https://localhost:8080/",
          "height": 55
        },
        "outputId": "3ff5db06-7934-4be0-f881-65f0bb877dcb",
        "executionInfo": {
          "status": "ok",
          "timestamp": 1527146795525,
          "user_tz": -330,
          "elapsed": 1178,
          "user": {
            "displayName": "Aditya Singh",
            "photoUrl": "//lh6.googleusercontent.com/-xEQtrPr4tTI/AAAAAAAAAAI/AAAAAAAAHbA/2VsDdjbtYDE/s50-c-k-no/photo.jpg",
            "userId": "114631778943688079875"
          }
        }
      },
      "cell_type": "code",
      "source": [
        "img = cv2.imread('drive/Colab Notebooks/sad.jpg',0)\n",
        "img = cv2.resize(img,(48,48))\n",
        "i =0\n",
        "j= 0 \n",
        "count = 0\n",
        "\n",
        "while i<48:\n",
        "  while j<48:\n",
        "    count = count + img[i][j]\n",
        "    j = j +1\n",
        "  i = i +1\n",
        "count = count /(48*48)\n",
        "\n",
        "i =0 \n",
        "j = 0\n",
        "\n",
        "print(img[0][1])\n",
        "while i<48:\n",
        "  while j<48:\n",
        "    img[i][j] = img[i][j] - count\n",
        "    \n",
        "    j = j +1\n",
        "  i = i +1\n",
        "print(img[0][1])\n",
        "img = np.reshape(img, (1,48,48,1))\n",
        "img = np.reshape(img, (1,48,48,1))"
      ],
      "execution_count": 129,
      "outputs": [
        {
          "output_type": "stream",
          "text": [
            "170\n",
            "167\n"
          ],
          "name": "stdout"
        }
      ]
    },
    {
      "metadata": {
        "id": "H8C-EDxxAoEZ",
        "colab_type": "code",
        "colab": {
          "autoexec": {
            "startup": false,
            "wait_interval": 0
          },
          "base_uri": "https://localhost:8080/",
          "height": 36
        },
        "outputId": "5060d6b1-94af-47ac-a220-e55373861c27",
        "executionInfo": {
          "status": "ok",
          "timestamp": 1527146798329,
          "user_tz": -330,
          "elapsed": 859,
          "user": {
            "displayName": "Aditya Singh",
            "photoUrl": "//lh6.googleusercontent.com/-xEQtrPr4tTI/AAAAAAAAAAI/AAAAAAAAHbA/2VsDdjbtYDE/s50-c-k-no/photo.jpg",
            "userId": "114631778943688079875"
          }
        }
      },
      "cell_type": "code",
      "source": [
        "output = model.predict(img)\n",
        "print(output)"
      ],
      "execution_count": 130,
      "outputs": [
        {
          "output_type": "stream",
          "text": [
            "[[0.21 0.   0.21 0.02 0.36 0.01 0.19]]\n"
          ],
          "name": "stdout"
        }
      ]
    },
    {
      "metadata": {
        "id": "aZFP-enRAp0N",
        "colab_type": "code",
        "colab": {
          "autoexec": {
            "startup": false,
            "wait_interval": 0
          },
          "base_uri": "https://localhost:8080/",
          "height": 36
        },
        "outputId": "928bd723-1844-4c87-9bc9-fd1390c74781",
        "executionInfo": {
          "status": "ok",
          "timestamp": 1527146799773,
          "user_tz": -330,
          "elapsed": 1211,
          "user": {
            "displayName": "Aditya Singh",
            "photoUrl": "//lh6.googleusercontent.com/-xEQtrPr4tTI/AAAAAAAAAAI/AAAAAAAAHbA/2VsDdjbtYDE/s50-c-k-no/photo.jpg",
            "userId": "114631778943688079875"
          }
        }
      },
      "cell_type": "code",
      "source": [
        "print(np.argmax(output,axis = 1))"
      ],
      "execution_count": 131,
      "outputs": [
        {
          "output_type": "stream",
          "text": [
            "[4]\n"
          ],
          "name": "stdout"
        }
      ]
    },
    {
      "metadata": {
        "id": "zObMaFdeArPp",
        "colab_type": "code",
        "colab": {
          "autoexec": {
            "startup": false,
            "wait_interval": 0
          }
        }
      },
      "cell_type": "code",
      "source": [
        ""
      ],
      "execution_count": 0,
      "outputs": []
    }
  ]
}